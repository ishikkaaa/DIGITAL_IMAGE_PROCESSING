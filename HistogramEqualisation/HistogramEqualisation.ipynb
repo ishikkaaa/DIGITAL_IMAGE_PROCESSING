{
  "nbformat": 4,
  "nbformat_minor": 0,
  "metadata": {
    "colab": {
      "provenance": []
    },
    "kernelspec": {
      "name": "python3",
      "display_name": "Python 3"
    },
    "language_info": {
      "name": "python"
    }
  },
  "cells": [
    {
      "cell_type": "code",
      "execution_count": null,
      "metadata": {
        "id": "mAhtSPyzBRc0"
      },
      "outputs": [],
      "source": [
        "import cv2\n",
        "import matplotlib.pyplot as plt\n",
        "\n",
        "image = cv2.imread('/content/test.webp', cv2.IMREAD_GRAYSCALE)\n",
        "equalized_image = cv2.equalizeHist(image)\n",
        "cv2.imwrite('equalized_image.jpg', equalized_image)\n",
        "fig, axs = plt.subplots(2, 2, figsize=(10, 8))\n",
        "axs[0, 0].imshow(image, cmap='gray')\n",
        "axs[0, 0].set_title('Original Image')\n",
        "axs[0, 0].axis('off')\n",
        "axs[1, 0].hist(image.ravel(), bins=256, range=[0, 256])\n",
        "axs[1, 0].set_title('Histogram of Original Image')\n",
        "axs[0, 1].imshow(equalized_image, cmap='gray')\n",
        "axs[0, 1].set_title('Equalized Image')\n",
        "axs[0, 1].axis('off')\n",
        "axs[1, 1].hist(equalized_image.ravel(), bins=256, range=[0, 256])\n",
        "axs[1, 1].set_title('Histogram of Equalized Image')\n",
        "\n",
        "plt.show()\n"
      ]
    },
    {
      "cell_type": "code",
      "source": [
        "import cv2\n",
        "import numpy as np\n",
        "import matplotlib.pyplot as plt\n",
        "\n",
        "image = cv2.imread('/content/test.webp')\n",
        "def brighten_image(img, value=50):\n",
        "    hsv = cv2.cvtColor(img, cv2.COLOR_BGR2HSV)\n",
        "    h, s, v = cv2.split(hsv)\n",
        "    v = cv2.add(v, value)\n",
        "    v = np.clip(v, 0, 255)\n",
        "    final_hsv = cv2.merge((h, s, v))\n",
        "    brightened_img = cv2.cvtColor(final_hsv, cv2.COLOR_HSV2BGR)\n",
        "    return brightened_img\n",
        "\n",
        "\n",
        "def darken_image(img, value=50):\n",
        "    hsv = cv2.cvtColor(img, cv2.COLOR_BGR2HSV)\n",
        "    h, s, v = cv2.split(hsv)\n",
        "    v = cv2.subtract(v, value)\n",
        "    v = np.clip(v, 0, 255)\n",
        "    final_hsv = cv2.merge((h, s, v))\n",
        "    darkened_img = cv2.cvtColor(final_hsv, cv2.COLOR_HSV2BGR)\n",
        "    return darkened_img\n",
        "\n",
        "\n",
        "brightened_image = brighten_image(image, value=50)\n",
        "darkened_image = darken_image(image, value=50)\n",
        "\n",
        "cv2.imwrite('brightened_image.jpg', brightened_image)\n",
        "cv2.imwrite('darkened_image.jpg', darkened_image)\n",
        "\n",
        "fig, axs = plt.subplots(1, 3, figsize=(15, 5))\n",
        "\n",
        "axs[0].imshow(cv2.cvtColor(image, cv2.COLOR_BGR2RGB))\n",
        "axs[0].set_title('Original Image')\n",
        "axs[0].axis('off')\n",
        "\n",
        "axs[1].imshow(cv2.cvtColor(brightened_image, cv2.COLOR_BGR2RGB))\n",
        "axs[1].set_title('Brightened Image')\n",
        "axs[1].axis('off')\n",
        "\n",
        "axs[2].imshow(cv2.cvtColor(darkened_image, cv2.COLOR_BGR2RGB))\n",
        "axs[2].set_title('Darkened Image')\n",
        "axs[2].axis('off')\n",
        "\n",
        "plt.show()\n"
      ],
      "metadata": {
        "id": "uAYjHvSdB29H"
      },
      "execution_count": null,
      "outputs": []
    }
  ]
}